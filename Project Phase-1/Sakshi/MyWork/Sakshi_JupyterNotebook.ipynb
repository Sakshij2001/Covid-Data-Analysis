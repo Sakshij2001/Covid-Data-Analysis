{
 "cells": [
  {
   "cell_type": "markdown",
   "id": "c980b85b",
   "metadata": {},
   "source": [
    "# Index :-\n",
    "## 1. Preparing Your Dataset for Cleaning\n",
    "`Ensure that the necessary files are uploaded to your Jupyter Notebook environment before starting the cleaning process.` \n",
    "## 2. Data Cleaning: COVID Deaths, COVID Cases, and Population Datasets\n",
    "`Detailed steps, code and reasons for cleaning the COVID-19 deaths, cases, and population datasets.`\n",
    "## 3. Merging of COVID Deaths, COVID Cases and Population\n",
    "`Description and code of how to merge the COVID Deaths, COVID Cases and Population data with the ACS demographic data.`\n",
    "## 4. Upload Merge Dataset\n",
    "`Instructions and code for uploading the dataset.`\n",
    "## 5. Data for the year 2020\n",
    "`Details on how to filter and focus on COVID-19 data specific to the year 2020.`\n",
    "## 6. Calculate COVID-19 data trends for last week\n",
    "`Steps and code for analyzing COVID-19 trends over the last week of available data on one state.`\n",
    "## 7. Enrichment dataset: ACS Demographic and Housing Estimates\n",
    "`Information about the ACS Demographic and Housing Estimates dataset and its relevance.`\n",
    "## 8. Data Cleaning: ACS Demographic and Housing Estimates\n",
    "`Procedures for cleaning the ACS dataset to prepare it for analysis.`\n",
    "## 9. Merging the COVID-19 data with Enrichment data\n",
    "`Description and code of how to merge the COVID-19 data with the ACS demographic data.`\n",
    "## 10. Enrichment Data's Role in COVID-19 Spread Analysis with Initial Hypothesis Questions \n",
    "`How various components of the enrichment data can aid in the analysis of COVID19 spread`"
   ]
  },
  {
   "cell_type": "markdown",
   "id": "130fa9d1",
   "metadata": {},
   "source": [
    "### 1. Preparing Your Dataset for Cleaning"
   ]
  },
  {
   "cell_type": "markdown",
   "id": "57509376",
   "metadata": {},
   "source": [
    "Before you start data cleaning on the COVID Deaths, COVID Cases, and Population datasets, ensure that the following files have been uploaded to your Jupyter Notebook environment:\n",
    "\n",
    "1. `covid_deaths_usafacts.csv`\n",
    "2. `covid_confirmed_usafacts.csv`\n",
    "3. `covid_county_population_usafacts.csv`\n",
    "\n",
    "You can reference these files by their names directly in your notebook.\n",
    "\n",
    "**If the Files Are Not Uploaded**\n",
    "If you have not uploaded the files yet, please follow these steps:\n",
    "\n",
    "1. Download the following files:\n",
    "- covid_deaths_usafacts.csv\n",
    "- covid_confirmed_usafacts.csv\n",
    "- covid_county_population_usafacts.csv\n",
    "2. Upload the files to Jupyter Notebook:\n",
    "- Click on the 'Upload' button in the Jupyter Notebook interface.\n",
    "- Select the dataset files from your local system.\n",
    "Once the files are uploaded, you can reference them by their names in your notebook."
   ]
  },
  {
   "cell_type": "markdown",
   "id": "5f343028",
   "metadata": {},
   "source": [
    "### 2. Data Cleaning: COVID Deaths, COVID Cases, and Population Datasets"
   ]
  },
  {
   "cell_type": "markdown",
   "id": "59f203e4",
   "metadata": {},
   "source": [
    "As part of the data cleaning process for the `COVID Deaths`, `COVID Cases` and `Population` dataset, the following steps were implemented:\n",
    "\n",
    "1. Removing Rows with `countyFIPS` Value of 0\n",
    "\n",
    "- **Action**: Rows where the `countyFIPS` column value is 0 were excluded from all three datasets.\n",
    "  \n",
    "- **Reason**: Rows with a `countyFIPS` value of 0 were removed for the following reasons:\n",
    "  - In the `Population` dataset, counties with a `countyFIPS` value of 0 have a population of 0, which is not meaningful for COVID-19 analysis.\n",
    "  - It is logical to exclude these rows since counties with zero population would not have COVID-19 cases or deaths.\n",
    "  - Additionally, the `Enrichment` dataset does not contain any `countyFIPS` codes with a value of 0. Since the datasets need to be merged, it is essential to ensure consistency across all datasets by removing these rows.\n",
    "  - A countyFIPS code of 0 is not a valid county code in the FIPS standard. As FIPS code for counties in the United States is a 5-digit number where: The first two digits represent the state code and last three digits represent the county code within the state.\n",
    "\n",
    "- **Result**: This step reduced the number of rows as follows:\n",
    "  - **COVID Deaths and COVID Cases Datasets**: From 3,193 to 3,142 rows.\n",
    "  - **Population Dataset**: From 3,195 to 3,144 rows."
   ]
  },
  {
   "cell_type": "markdown",
   "id": "63493621",
   "metadata": {},
   "source": [
    "**COVID Deaths:**"
   ]
  },
  {
   "cell_type": "code",
   "execution_count": 107,
   "id": "eb2bca81",
   "metadata": {},
   "outputs": [
    {
     "name": "stdout",
     "output_type": "stream",
     "text": [
      "(Rows, Columns)= (3142, 1269)\n"
     ]
    }
   ],
   "source": [
    "import pandas as pd\n",
    "deaths_with_zeroCountyCode=pd.read_csv('covid_deaths_usafacts.csv')\n",
    "#print(\"(Rows, Columns)=\",deaths_with_zeroCountyCode.shape)\n",
    "deaths=deaths_with_zeroCountyCode[deaths_with_zeroCountyCode['countyFIPS'] != 0]\n",
    "print(\"(Rows, Columns)=\",deaths.shape)"
   ]
  },
  {
   "cell_type": "markdown",
   "id": "5929324b",
   "metadata": {},
   "source": [
    "**COVID Cases:**"
   ]
  },
  {
   "cell_type": "code",
   "execution_count": 108,
   "id": "695c18cc",
   "metadata": {},
   "outputs": [
    {
     "name": "stdout",
     "output_type": "stream",
     "text": [
      "(Rows, Columns)= (3142, 1269)\n"
     ]
    }
   ],
   "source": [
    "cases_with_zeroCountyCode=pd.read_csv('covid_confirmed_usafacts.csv')\n",
    "#print(\"(Rows, Columns)=\",cases_with_zeroCountyCode.shape)\n",
    "cases=cases_with_zeroCountyCode[cases_with_zeroCountyCode['countyFIPS'] != 0]\n",
    "print(\"(Rows, Columns)=\",cases.shape)"
   ]
  },
  {
   "cell_type": "markdown",
   "id": "99006ba4",
   "metadata": {},
   "source": [
    "**Population:**"
   ]
  },
  {
   "cell_type": "code",
   "execution_count": 109,
   "id": "cdbdcf61",
   "metadata": {},
   "outputs": [
    {
     "name": "stdout",
     "output_type": "stream",
     "text": [
      "(Rows, Columns)= (3144, 4)\n"
     ]
    }
   ],
   "source": [
    "population_with_zeroCountyCode=pd.read_csv('covid_county_population_usafacts.csv')\n",
    "#print(population_with_zeroCountyCode.shape)\n",
    "population=population_with_zeroCountyCode[population_with_zeroCountyCode['countyFIPS'] != 0]\n",
    "print(\"(Rows, Columns)=\",population.shape)"
   ]
  },
  {
   "cell_type": "markdown",
   "id": "f730ca9c",
   "metadata": {},
   "source": [
    "### 3. Merging of COVID Deaths, COVID Cases and Population"
   ]
  },
  {
   "cell_type": "markdown",
   "id": "f092bc13",
   "metadata": {},
   "source": [
    "- **Covid Deaths dataset name**: `deaths`\n",
    "- **Covid Cases dataset name**: `cases`\n",
    "- **Population dataset name**: `population`\n",
    "- **After merging this three dataset name**: `super_covid19_dataframe.csv`\n",
    "\n",
    "After analyzing the three datasets, we perform a merge on the `countyFIPS` column using an `inner` join.\n",
    "\n",
    "**Reason for Inner Join**: \n",
    "An inner join was chosen based on the following analysis:\n",
    "- The `population` dataset contained two rows with `countyFIPS` codes 2270 and 6000, where the population value was 0. These rows are not present in the `deaths` and `cases` datasets.\n",
    "- Additionally, these `countyFIPS` codes are not included in the enrichment dataset.\n",
    "\n",
    "Using an inner join ensures that only rows with matching `countyFIPS` codes across all three datasets are included. The exclusion of these two rows, which have no relevant data in the other datasets, will not significantly impact the merged result.\n",
    "\n",
    "By using an inner join, we effectively consolidate the datasets while maintaining data integrity and relevance."
   ]
  },
  {
   "cell_type": "code",
   "execution_count": 110,
   "id": "f96edc3e",
   "metadata": {},
   "outputs": [
    {
     "name": "stdout",
     "output_type": "stream",
     "text": [
      "super_cases_population:(Rows, Columns)= (3142, 1270)\n",
      "super_deaths_population:(Rows, Columns)= (3142, 1270)\n",
      "super_covid19_dataframe: (Rows, Columns)= (3142, 2535)\n"
     ]
    }
   ],
   "source": [
    "super_cases_population=pd.merge(cases,population[['countyFIPS','population']],on=['countyFIPS'],how='inner')# This combines the cases data with population data based on 'countyFIPS'\n",
    "print(\"super_cases_population:(Rows, Columns)=\",super_cases_population.shape)\n",
    "super_deaths_population=pd.merge(deaths,population[['countyFIPS','population']],on=['countyFIPS'],how='inner')# This combines the deaths data with population data based on 'countyFIPS'\n",
    "print(\"super_deaths_population:(Rows, Columns)=\",super_deaths_population.shape)\n",
    "\n",
    "\n",
    "# Merge the 'super_cases_population' DataFrame with the 'super_deaths_population' DataFrame.\n",
    "# Drop the 'County Name', 'State', 'StateFIPS', and 'population' columns from 'super_deaths_population' to avoid duplication\n",
    "# and use suffixes '_cases' and '_deaths' to differentiate between the case and death data in the merged DataFrame.\n",
    "super_covid19_dataframe=pd.merge(super_cases_population,super_deaths_population.drop(columns=['County Name', 'State','StateFIPS','population']),on=['countyFIPS'], how='inner',suffixes=('_cases', '_deaths'))\n",
    "print(\"super_covid19_dataframe: (Rows, Columns)=\",super_covid19_dataframe.shape)\n",
    "\n",
    "# Save the final DataFrame to a CSV file without the index column\n",
    "super_covid19_dataframe.to_csv('super_covid19_dataframe.csv', index=False)"
   ]
  },
  {
   "cell_type": "markdown",
   "id": "793a6aff",
   "metadata": {},
   "source": [
    "### 4. Upload Merge Dataset"
   ]
  },
  {
   "cell_type": "markdown",
   "id": "536055e6",
   "metadata": {},
   "source": [
    "To upload dataser file:\n",
    "1. First download the `super_covid19_dataframe.csv` file from path: Group-4/super_covid19_dataframe.csv\n",
    "2. After downloading, click on the 'Upload' button in the jupyter Notebok interface.\n",
    "3. Select the dataset file from your local system.\n",
    "4. Once uploaded, you can use the file in your notebook by referencing its name.\n"
   ]
  },
  {
   "cell_type": "markdown",
   "id": "8e720a14",
   "metadata": {},
   "source": [
    "Below code provides instructions for reading and inspecting a dataset of COVID-19 data using the pandas library."
   ]
  },
  {
   "cell_type": "code",
   "execution_count": 111,
   "id": "2c952ad4",
   "metadata": {},
   "outputs": [
    {
     "name": "stdout",
     "output_type": "stream",
     "text": [
      "(Rows, Columns)= (3142, 2535)\n"
     ]
    }
   ],
   "source": [
    "import pandas as pd\n",
    "\n",
    "super_covid19=pd.read_csv('super_covid19_dataframe.csv')\n",
    "print(\"(Rows, Columns)=\",super_covid19.shape)"
   ]
  },
  {
   "cell_type": "markdown",
   "id": "a41a21b2",
   "metadata": {},
   "source": [
    "The below Python code is used to display the first few rows of a Data"
   ]
  },
  {
   "cell_type": "code",
   "execution_count": 112,
   "id": "7c1f51ad",
   "metadata": {},
   "outputs": [
    {
     "name": "stdout",
     "output_type": "stream",
     "text": [
      "   countyFIPS      County Name State  StateFIPS  2020-01-22_cases  \\\n",
      "0        1001  Autauga County     AL          1                 0   \n",
      "1        1003  Baldwin County     AL          1                 0   \n",
      "2        1005  Barbour County     AL          1                 0   \n",
      "3        1007     Bibb County     AL          1                 0   \n",
      "4        1009   Blount County     AL          1                 0   \n",
      "\n",
      "   2020-01-23_cases  2020-01-24_cases  2020-01-25_cases  2020-01-26_cases  \\\n",
      "0                 0                 0                 0                 0   \n",
      "1                 0                 0                 0                 0   \n",
      "2                 0                 0                 0                 0   \n",
      "3                 0                 0                 0                 0   \n",
      "4                 0                 0                 0                 0   \n",
      "\n",
      "   2020-01-27_cases  ...  2023-07-14_deaths  2023-07-15_deaths  \\\n",
      "0                 0  ...                235                235   \n",
      "1                 0  ...                731                731   \n",
      "2                 0  ...                104                104   \n",
      "3                 0  ...                111                111   \n",
      "4                 0  ...                261                261   \n",
      "\n",
      "   2023-07-16_deaths  2023-07-17_deaths  2023-07-18_deaths  2023-07-19_deaths  \\\n",
      "0                235                235                235                235   \n",
      "1                731                731                731                731   \n",
      "2                104                104                104                104   \n",
      "3                111                111                111                111   \n",
      "4                261                261                261                261   \n",
      "\n",
      "   2023-07-20_deaths  2023-07-21_deaths  2023-07-22_deaths  2023-07-23_deaths  \n",
      "0                235                235                235                235  \n",
      "1                731                731                731                731  \n",
      "2                104                104                104                104  \n",
      "3                111                111                111                111  \n",
      "4                261                261                261                261  \n",
      "\n",
      "[5 rows x 2535 columns]\n"
     ]
    }
   ],
   "source": [
    "print(super_covid19.head())"
   ]
  },
  {
   "cell_type": "markdown",
   "id": "8b1770ae",
   "metadata": {},
   "source": [
    "### 5. Data for the year 2020"
   ]
  },
  {
   "cell_type": "markdown",
   "id": "6cd6932f",
   "metadata": {},
   "source": [
    "After analyzing the code we need to do two task for required data.\n",
    "`Filter Columns for 2020 Data`:As mentioned in project discription, we need to focus on the year 2020 data so, we take the columns which starts with 2020"
   ]
  },
  {
   "cell_type": "code",
   "execution_count": 113,
   "id": "2fea2bd3",
   "metadata": {},
   "outputs": [
    {
     "name": "stdout",
     "output_type": "stream",
     "text": [
      "(Rows, Columns)= (3142, 695)\n"
     ]
    }
   ],
   "source": [
    "columns_2020 = [col for col in super_covid19.columns if col.startswith('2020')] # Filter columns to include only those starting with '2020'\n",
    "superdata_2020=super_covid19[columns_2020]\n",
    "additional_columns = super_covid19[['countyFIPS','County Name', 'State','StateFIPS','population']] # Select additional columns that are essential for the dataset\n",
    "superdata_2020=pd.concat([additional_columns,superdata_2020], axis=1) # Concatenate the additional columns with the filtered 2020 data\n",
    "print(\"(Rows, Columns)=\",superdata_2020.shape)"
   ]
  },
  {
   "cell_type": "markdown",
   "id": "8082dcd3",
   "metadata": {},
   "source": [
    "### 6. Calculate COVID-19 data trends for last week"
   ]
  },
  {
   "cell_type": "markdown",
   "id": "f07d191e",
   "metadata": {},
   "source": [
    "Selected state information:\n",
    "- **State name**: `Arizona`\n",
    "- **State**: AZ\n",
    "- **StateFIPS**: 4\n",
    "- **Total county count**: 15 "
   ]
  },
  {
   "cell_type": "markdown",
   "id": "5724deab",
   "metadata": {},
   "source": [
    "The below code snippet extracts and visualizes COVID-19 case data for the state of `Arizona`. Specifically, it focuses on the `last week of data from the year 2020`. For each county within Arizona, the code generates a line plot showing the trend of COVID-19 cases over this week."
   ]
  },
  {
   "cell_type": "code",
   "execution_count": 114,
   "id": "51d919c2",
   "metadata": {},
   "outputs": [
    {
     "data": {
      "image/png": "[encoded data removed]",
      "text/plain": [
       "<Figure size 1400x800 with 1 Axes>"
      ]
     },
     "metadata": {},
     "output_type": "display_data"
    }
   ],
   "source": [
    "import matplotlib.pyplot as plt\n",
    "\n",
    "state_data = superdata_2020[superdata_2020['StateFIPS'] == 4] # Filter the data for a state 'Arizona'\n",
    "#print(state_data.shape)\n",
    "date_columns = [col for col in state_data.columns if col.endswith('_cases')] # Extract the date columns that end with '_cases'\n",
    "date_columns.sort()\n",
    "\n",
    "filter_last_week_dates = date_columns[-7:] # Select columns for the last week\n",
    "\n",
    "# Extract and convert dates from column names\n",
    "last_week_dates = [col.split('_')[0] for col in filter_last_week_dates] \n",
    "last_week_dates = pd.to_datetime(last_week_dates)\n",
    "\n",
    "#print(\"Dates for the last week:\", last_week_dates)\n",
    "plt.figure(figsize=(14, 8)) \n",
    "for index, row in state_data.iterrows():\n",
    "    county_name = row['County Name']\n",
    "    case_counts = row[filter_last_week_dates].values  # Get case counts for the last week\n",
    "    plt.plot(last_week_dates, case_counts, marker='o', linestyle='-', label=county_name)\n",
    "    \n",
    "    # Annotate the last point of each line with the county name\n",
    "    plt.text(last_week_dates[-1], case_counts[-1], county_name, fontsize=8, color='black', \n",
    "             bbox=dict(facecolor='white', alpha=0.5, edgecolor='none', boxstyle='round,pad=0.3'))\n",
    "plt.title('COVID-19 data trends for Arizona State on last week')\n",
    "plt.xlabel('Date')\n",
    "plt.ylabel('Number of Cases')\n",
    "plt.legend() \n",
    "plt.grid(True)\n",
    "plt.tight_layout()  # Adjust layout to prevent clipping of labels\n",
    "\n",
    "# Show the plot\n",
    "plt.show()\n"
   ]
  },
  {
   "attachments": {},
   "cell_type": "markdown",
   "id": "ff2a0b1d",
   "metadata": {},
   "source": [
    "By analyzing the graph we can see that cases are increasing, decreasing, or stable for each county.\n",
    "- Apache County: **Stable** \n",
    "- Cochise County: **Stable**\n",
    "- Coconino County: **Stable** \n",
    "- Gila County: **Stable** \n",
    "- Graham County: **Stable** \n",
    "- Greenlee County: **Stable** \n",
    "- La Paz County: **Stable** \n",
    "- Maricopa County: **Increasing**\n",
    "- Mohave County: **Stable** \n",
    "- Navajo County: **Stable** \n",
    "- Pima County: **Increasing**\n",
    "- Pinal County: **Increasing** \n",
    "- Santa Cruz County: **Stable** \n",
    "- Yavapai County: **Stable** \n",
    "- Yuma County: **Increasing** "
   ]
  },
  {
   "cell_type": "markdown",
   "id": "353610ec",
   "metadata": {},
   "source": [
    "### 7. Enrichment dataset: ACS Demographic and Housing Estimates"
   ]
  },
  {
   "cell_type": "markdown",
   "id": "8d8b3989",
   "metadata": {},
   "source": [
    "To upload dataser file:\n",
    "\n",
    "1. First download the ACS Demographic and Housing Estimates.csv file from path: Group-4/ACS Demographic and Housing Estimates.csv\n",
    "2. After downloading, click on the 'Upload' button in the jupyter Notebok interface.\n",
    "3. Select the dataset file from your local system. \n",
    "4. Once uploaded, you can use the file in your notebook by referencing its name.\n",
    "\n",
    "We can also download it from link: https://data.census.gov/table/ACSDP5Y2020.DP05?q=dp&g=010XX00US$0500000"
   ]
  },
  {
   "cell_type": "markdown",
   "id": "c27db224",
   "metadata": {},
   "source": [
    "Below code provides instructions for reading and display a dataset of COVID-19 data using the pandas library."
   ]
  },
  {
   "cell_type": "code",
   "execution_count": 115,
   "id": "ab41cb8a",
   "metadata": {},
   "outputs": [
    {
     "name": "stdout",
     "output_type": "stream",
     "text": [
      "(Rows, Columns)= (3221, 359)\n",
      "        Geography     Geographic Area Name  \\\n",
      "0  0500000US01001  Autauga County, Alabama   \n",
      "1  0500000US01003  Baldwin County, Alabama   \n",
      "2  0500000US01005  Barbour County, Alabama   \n",
      "3  0500000US01007     Bibb County, Alabama   \n",
      "4  0500000US01009   Blount County, Alabama   \n",
      "\n",
      "   Estimate!!SEX AND AGE!!Total population  \\\n",
      "0                                    55639   \n",
      "1                                   218289   \n",
      "2                                    25026   \n",
      "3                                    22374   \n",
      "4                                    57755   \n",
      "\n",
      "  Margin of Error!!SEX AND AGE!!Total population  \\\n",
      "0                                          *****   \n",
      "1                                          *****   \n",
      "2                                          *****   \n",
      "3                                          *****   \n",
      "4                                          *****   \n",
      "\n",
      "   Estimate!!SEX AND AGE!!Total population!!Male  \\\n",
      "0                                          27052   \n",
      "1                                         105889   \n",
      "2                                          13156   \n",
      "3                                          12022   \n",
      "4                                          28677   \n",
      "\n",
      "  Margin of Error!!SEX AND AGE!!Total population!!Male  \\\n",
      "0                                                167     \n",
      "1                                                253     \n",
      "2                                                 86     \n",
      "3                                                170     \n",
      "4                                                153     \n",
      "\n",
      "   Estimate!!SEX AND AGE!!Total population!!Female  \\\n",
      "0                                            28587   \n",
      "1                                           112400   \n",
      "2                                            11870   \n",
      "3                                            10352   \n",
      "4                                            29078   \n",
      "\n",
      "  Margin of Error!!SEX AND AGE!!Total population!!Female  \\\n",
      "0                                                167       \n",
      "1                                                253       \n",
      "2                                                 86       \n",
      "3                                                170       \n",
      "4                                                153       \n",
      "\n",
      "   Estimate!!SEX AND AGE!!Total population!!Sex ratio (males per 100 females)  \\\n",
      "0                                               94.6                            \n",
      "1                                               94.2                            \n",
      "2                                              110.8                            \n",
      "3                                              116.1                            \n",
      "4                                               98.6                            \n",
      "\n",
      "  Margin of Error!!SEX AND AGE!!Total population!!Sex ratio (males per 100 females)  \\\n",
      "0                                                1.1                                  \n",
      "1                                                0.4                                  \n",
      "2                                                1.5                                  \n",
      "3                                                3.6                                  \n",
      "4                                                1.0                                  \n",
      "\n",
      "   ...  \\\n",
      "0  ...   \n",
      "1  ...   \n",
      "2  ...   \n",
      "3  ...   \n",
      "4  ...   \n",
      "\n",
      "   Percent Margin of Error!!HISPANIC OR LATINO AND RACE!!Total population!!Not Hispanic or Latino!!Two or more races!!Two races excluding Some other race, and Three or more races  \\\n",
      "0                                                0.7                                                                                                                                 \n",
      "1                                                0.4                                                                                                                                 \n",
      "2                                                0.6                                                                                                                                 \n",
      "3                                                0.3                                                                                                                                 \n",
      "4                                                0.3                                                                                                                                 \n",
      "\n",
      "  Percent!!Total housing units  Percent Margin of Error!!Total housing units  \\\n",
      "0                          (X)                                           (X)   \n",
      "1                          (X)                                           (X)   \n",
      "2                          (X)                                           (X)   \n",
      "3                          (X)                                           (X)   \n",
      "4                          (X)                                           (X)   \n",
      "\n",
      "   Percent!!CITIZEN, VOTING AGE POPULATION!!Citizen, 18 and over population  \\\n",
      "0                                              41959                          \n",
      "1                                             167986                          \n",
      "2                                              19468                          \n",
      "3                                              17583                          \n",
      "4                                              42978                          \n",
      "\n",
      "   Percent Margin of Error!!CITIZEN, VOTING AGE POPULATION!!Citizen, 18 and over population  \\\n",
      "0                                                (X)                                          \n",
      "1                                                (X)                                          \n",
      "2                                                (X)                                          \n",
      "3                                                (X)                                          \n",
      "4                                                (X)                                          \n",
      "\n",
      "   Percent!!CITIZEN, VOTING AGE POPULATION!!Citizen, 18 and over population!!Male  \\\n",
      "0                                               47.6                                \n",
      "1                                               47.8                                \n",
      "2                                               53.2                                \n",
      "3                                               53.6                                \n",
      "4                                               48.9                                \n",
      "\n",
      "   Percent Margin of Error!!CITIZEN, VOTING AGE POPULATION!!Citizen, 18 and over population!!Male  \\\n",
      "0                                                0.4                                                \n",
      "1                                                0.2                                                \n",
      "2                                                0.2                                                \n",
      "3                                                0.4                                                \n",
      "4                                                0.3                                                \n",
      "\n",
      "  Percent!!CITIZEN, VOTING AGE POPULATION!!Citizen, 18 and over population!!Female  \\\n",
      "0                                               52.4                                 \n",
      "1                                               52.2                                 \n",
      "2                                               46.8                                 \n",
      "3                                               46.4                                 \n",
      "4                                               51.1                                 \n",
      "\n",
      "   Percent Margin of Error!!CITIZEN, VOTING AGE POPULATION!!Citizen, 18 and over population!!Female  \\\n",
      "0                                                0.4                                                  \n",
      "1                                                0.2                                                  \n",
      "2                                                0.2                                                  \n",
      "3                                                0.4                                                  \n",
      "4                                                0.3                                                  \n",
      "\n",
      "  Unnamed: 358  \n",
      "0          NaN  \n",
      "1          NaN  \n",
      "2          NaN  \n",
      "3          NaN  \n",
      "4          NaN  \n",
      "\n",
      "[5 rows x 359 columns]\n",
      "Geography                                                                                            object\n",
      "Geographic Area Name                                                                                 object\n",
      "Estimate!!SEX AND AGE!!Total population                                                               int64\n",
      "Margin of Error!!SEX AND AGE!!Total population                                                       object\n",
      "Estimate!!SEX AND AGE!!Total population!!Male                                                         int64\n",
      "                                                                                                     ...   \n",
      "Percent!!CITIZEN, VOTING AGE POPULATION!!Citizen, 18 and over population!!Male                      float64\n",
      "Percent Margin of Error!!CITIZEN, VOTING AGE POPULATION!!Citizen, 18 and over population!!Male      float64\n",
      "Percent!!CITIZEN, VOTING AGE POPULATION!!Citizen, 18 and over population!!Female                    float64\n",
      "Percent Margin of Error!!CITIZEN, VOTING AGE POPULATION!!Citizen, 18 and over population!!Female    float64\n",
      "Unnamed: 358                                                                                        float64\n",
      "Length: 359, dtype: object\n"
     ]
    }
   ],
   "source": [
    "ACS=pd.read_csv('ACS Demographic and Housing Estimates.csv',skiprows=1)\n",
    "print(\"(Rows, Columns)=\",ACS.shape)\n",
    "print(ACS.head())\n",
    "print(ACS.dtypes) #Data type of all columns"
   ]
  },
  {
   "cell_type": "markdown",
   "id": "97abf61c",
   "metadata": {},
   "source": [
    "### 8. Data Cleaning: ACS Demographic and Housing Estimates"
   ]
  },
  {
   "cell_type": "markdown",
   "id": "6ed8b97c",
   "metadata": {},
   "source": [
    "As part of the data cleaning process for the `ACS Demographic and Housing Estimates.csv` dataset, the following steps were implemented:\n",
    "\n",
    "1. **Exclusion of Puerto Rico Data**:\n",
    "   - **Action**: Rows where the 'Geography' column values start with '0500000US7' were excluded.\n",
    "   - **Reason**: The 'Geography' column includes data for all counties within the United States as well as Puerto Rico. Since the `superdata_2020` dataset only contains data for counties within the United States (excluding Puerto Rico), it was necessary to remove Puerto Rican data. Analysis revealed that rows beginning with '0500000US7' correspond to Puerto Rico.\n",
    "   - **Result**: This step filters the dataset to include only U.S. counties, making the row count approximately match that of the `superdata_2020` dataset.\n",
    "2. **Remove Prefix from 'Geography' Column**:\n",
    "    - **Action**: The prefix '0500000US' is removed from the 'Geography' column.\n",
    "    - **Reason**: For merging with the `superdata_2020` dataset on the `countyFIPS` column, a proper county code is required. The county code is derived from the 'Geography' column after removing the prefix '0500000US'.\n",
    "    - **Result**: This step produces a unique 5-digit code for each county, which accurately identifies counties within their respective states.\n",
    "3. **Rename the 'Geography' Column to 'countyFIPS' Column**\n",
    "    - **Action**: Rename the 'Geography' Column to 'countyFIPS' Column\n",
    "    - **Reason**: For better understanding and future merging.\n",
    "    - **Result**: It chage the name of 'Geography' Column to 'countyFIPS' Column in `ACS_filtered` dataset\n",
    "4. **Change Datatype of 'countyFIPS' column**\n",
    "    - **Action**: Change the Datatype of 'countyFIPS' column from object to int.\n",
    "    - **Reason**: For merging with `superdata_2020` dataset column 'countyFIPS' which is an int datatype. Because merging column should contain same datatype \n",
    "    - **Result**: It chage the Datatype of 'countyFIPS' column from object to int.\n",
    "5. **Drop the last column wich contain NaN value**\n",
    "    - **Action**: Drop the last column\n",
    "    - **Reason**: Last column is unnamed and it's conatin NaN value for all rows\n",
    "    - **Result**: Column count can be 358 from 359."
   ]
  },
  {
   "cell_type": "code",
   "execution_count": 116,
   "id": "2271d6b8",
   "metadata": {},
   "outputs": [
    {
     "name": "stdout",
     "output_type": "stream",
     "text": [
      "(Rows, Columns)= (3143, 358)\n",
      "   countyFIPS     Geographic Area Name  \\\n",
      "0        1001  Autauga County, Alabama   \n",
      "1        1003  Baldwin County, Alabama   \n",
      "2        1005  Barbour County, Alabama   \n",
      "3        1007     Bibb County, Alabama   \n",
      "4        1009   Blount County, Alabama   \n",
      "\n",
      "   Estimate!!SEX AND AGE!!Total population  \\\n",
      "0                                    55639   \n",
      "1                                   218289   \n",
      "2                                    25026   \n",
      "3                                    22374   \n",
      "4                                    57755   \n",
      "\n",
      "  Margin of Error!!SEX AND AGE!!Total population  \\\n",
      "0                                          *****   \n",
      "1                                          *****   \n",
      "2                                          *****   \n",
      "3                                          *****   \n",
      "4                                          *****   \n",
      "\n",
      "   Estimate!!SEX AND AGE!!Total population!!Male  \\\n",
      "0                                          27052   \n",
      "1                                         105889   \n",
      "2                                          13156   \n",
      "3                                          12022   \n",
      "4                                          28677   \n",
      "\n",
      "  Margin of Error!!SEX AND AGE!!Total population!!Male  \\\n",
      "0                                                167     \n",
      "1                                                253     \n",
      "2                                                 86     \n",
      "3                                                170     \n",
      "4                                                153     \n",
      "\n",
      "   Estimate!!SEX AND AGE!!Total population!!Female  \\\n",
      "0                                            28587   \n",
      "1                                           112400   \n",
      "2                                            11870   \n",
      "3                                            10352   \n",
      "4                                            29078   \n",
      "\n",
      "  Margin of Error!!SEX AND AGE!!Total population!!Female  \\\n",
      "0                                                167       \n",
      "1                                                253       \n",
      "2                                                 86       \n",
      "3                                                170       \n",
      "4                                                153       \n",
      "\n",
      "   Estimate!!SEX AND AGE!!Total population!!Sex ratio (males per 100 females)  \\\n",
      "0                                               94.6                            \n",
      "1                                               94.2                            \n",
      "2                                              110.8                            \n",
      "3                                              116.1                            \n",
      "4                                               98.6                            \n",
      "\n",
      "  Margin of Error!!SEX AND AGE!!Total population!!Sex ratio (males per 100 females)  \\\n",
      "0                                                1.1                                  \n",
      "1                                                0.4                                  \n",
      "2                                                1.5                                  \n",
      "3                                                3.6                                  \n",
      "4                                                1.0                                  \n",
      "\n",
      "   ...  \\\n",
      "0  ...   \n",
      "1  ...   \n",
      "2  ...   \n",
      "3  ...   \n",
      "4  ...   \n",
      "\n",
      "   Percent!!HISPANIC OR LATINO AND RACE!!Total population!!Not Hispanic or Latino!!Two or more races!!Two races excluding Some other race, and Three or more races  \\\n",
      "0                                                1.9                                                                                                                 \n",
      "1                                                1.8                                                                                                                 \n",
      "2                                                1.2                                                                                                                 \n",
      "3                                                0.4                                                                                                                 \n",
      "4                                                1.6                                                                                                                 \n",
      "\n",
      "  Percent Margin of Error!!HISPANIC OR LATINO AND RACE!!Total population!!Not Hispanic or Latino!!Two or more races!!Two races excluding Some other race, and Three or more races  \\\n",
      "0                                                0.7                                                                                                                                \n",
      "1                                                0.4                                                                                                                                \n",
      "2                                                0.6                                                                                                                                \n",
      "3                                                0.3                                                                                                                                \n",
      "4                                                0.3                                                                                                                                \n",
      "\n",
      "   Percent!!Total housing units  Percent Margin of Error!!Total housing units  \\\n",
      "0                           (X)                                           (X)   \n",
      "1                           (X)                                           (X)   \n",
      "2                           (X)                                           (X)   \n",
      "3                           (X)                                           (X)   \n",
      "4                           (X)                                           (X)   \n",
      "\n",
      "   Percent!!CITIZEN, VOTING AGE POPULATION!!Citizen, 18 and over population  \\\n",
      "0                                              41959                          \n",
      "1                                             167986                          \n",
      "2                                              19468                          \n",
      "3                                              17583                          \n",
      "4                                              42978                          \n",
      "\n",
      "   Percent Margin of Error!!CITIZEN, VOTING AGE POPULATION!!Citizen, 18 and over population  \\\n",
      "0                                                (X)                                          \n",
      "1                                                (X)                                          \n",
      "2                                                (X)                                          \n",
      "3                                                (X)                                          \n",
      "4                                                (X)                                          \n",
      "\n",
      "   Percent!!CITIZEN, VOTING AGE POPULATION!!Citizen, 18 and over population!!Male  \\\n",
      "0                                               47.6                                \n",
      "1                                               47.8                                \n",
      "2                                               53.2                                \n",
      "3                                               53.6                                \n",
      "4                                               48.9                                \n",
      "\n",
      "  Percent Margin of Error!!CITIZEN, VOTING AGE POPULATION!!Citizen, 18 and over population!!Male  \\\n",
      "0                                                0.4                                               \n",
      "1                                                0.2                                               \n",
      "2                                                0.2                                               \n",
      "3                                                0.4                                               \n",
      "4                                                0.3                                               \n",
      "\n",
      "   Percent!!CITIZEN, VOTING AGE POPULATION!!Citizen, 18 and over population!!Female  \\\n",
      "0                                               52.4                                  \n",
      "1                                               52.2                                  \n",
      "2                                               46.8                                  \n",
      "3                                               46.4                                  \n",
      "4                                               51.1                                  \n",
      "\n",
      "  Percent Margin of Error!!CITIZEN, VOTING AGE POPULATION!!Citizen, 18 and over population!!Female  \n",
      "0                                                0.4                                                \n",
      "1                                                0.2                                                \n",
      "2                                                0.2                                                \n",
      "3                                                0.4                                                \n",
      "4                                                0.3                                                \n",
      "\n",
      "[5 rows x 358 columns]\n"
     ]
    }
   ],
   "source": [
    "ACS_filtered = ACS[~ACS['Geography'].astype(str).str.startswith('0500000US7')].copy()\n",
    "#print(ACS_filtered.Geography.nunique())\n",
    "\n",
    "prefix_to_remove = '0500000US'\n",
    "# Remove the prefix from the 'Geography' column\n",
    "ACS_filtered['Geography'] = ACS_filtered['Geography'].astype(str).str.replace(prefix_to_remove, '', regex=False)\n",
    "ACS_filtered.rename(columns={'Geography': 'countyFIPS'}, inplace=True)\n",
    "#print(ACS_filtered['countyFIPS'].dtype)\n",
    "#print(superdata_2020['countyFIPS'].dtype)\n",
    "ACS_filtered['countyFIPS'] = ACS_filtered['countyFIPS'].astype(int)\n",
    "ACS_filtered = ACS_filtered.drop(ACS_filtered.columns[-1], axis=1)\n",
    "print(\"(Rows, Columns)=\",ACS_filtered.shape)\n",
    "print(ACS_filtered.head())"
   ]
  },
  {
   "cell_type": "markdown",
   "id": "94ad182f",
   "metadata": {},
   "source": [
    "### 9. Merging  the COVID-19 data with Enrichment data"
   ]
  },
  {
   "cell_type": "markdown",
   "id": "4877a418",
   "metadata": {},
   "source": [
    "- **Covid-19 data name**: `superdata_2020`\n",
    "- **Enrichment data name**: `ACS_filtered`\n",
    "- **After merging dataset name**: `merge_Enrichment_data`\n",
    "\n",
    "After analyzing the two datasets, we perform a merge on the `countyFIPS` column using an `outer` join.\n",
    "\n",
    "**Reason for Outer Join**: An outer join is used to ensure that all records from both datasets are included in the merged result. This is necessary because there are some `countyFIPS` codes present in the `ACS_filtered` dataset that are not found in the `superdata_2020` dataset. Examples of such `countyFIPS` codes include 2063, 2066, and 2261.\n",
    "\n",
    "By using an outer join, we can include these records and ensure a comprehensive dataset that captures all relevant information."
   ]
  },
  {
   "cell_type": "code",
   "execution_count": 117,
   "id": "152540ce",
   "metadata": {
    "scrolled": true
   },
   "outputs": [
    {
     "name": "stdout",
     "output_type": "stream",
     "text": [
      "(Rows, Columns)=  (3144, 1052)\n",
      "   countyFIPS      County Name State  StateFIPS  population  2020-01-22_cases  \\\n",
      "0        1001  Autauga County     AL        1.0     55869.0               0.0   \n",
      "1        1003  Baldwin County     AL        1.0    223234.0               0.0   \n",
      "2        1005  Barbour County     AL        1.0     24686.0               0.0   \n",
      "3        1007     Bibb County     AL        1.0     22394.0               0.0   \n",
      "4        1009   Blount County     AL        1.0     57826.0               0.0   \n",
      "\n",
      "   2020-01-23_cases  2020-01-24_cases  2020-01-25_cases  2020-01-26_cases  \\\n",
      "0               0.0               0.0               0.0               0.0   \n",
      "1               0.0               0.0               0.0               0.0   \n",
      "2               0.0               0.0               0.0               0.0   \n",
      "3               0.0               0.0               0.0               0.0   \n",
      "4               0.0               0.0               0.0               0.0   \n",
      "\n",
      "   ...  \\\n",
      "0  ...   \n",
      "1  ...   \n",
      "2  ...   \n",
      "3  ...   \n",
      "4  ...   \n",
      "\n",
      "   Percent!!HISPANIC OR LATINO AND RACE!!Total population!!Not Hispanic or Latino!!Two or more races!!Two races excluding Some other race, and Three or more races  \\\n",
      "0                                                1.9                                                                                                                 \n",
      "1                                                1.8                                                                                                                 \n",
      "2                                                1.2                                                                                                                 \n",
      "3                                                0.4                                                                                                                 \n",
      "4                                                1.6                                                                                                                 \n",
      "\n",
      "   Percent Margin of Error!!HISPANIC OR LATINO AND RACE!!Total population!!Not Hispanic or Latino!!Two or more races!!Two races excluding Some other race, and Three or more races  \\\n",
      "0                                                0.7                                                                                                                                 \n",
      "1                                                0.4                                                                                                                                 \n",
      "2                                                0.6                                                                                                                                 \n",
      "3                                                0.3                                                                                                                                 \n",
      "4                                                0.3                                                                                                                                 \n",
      "\n",
      "   Percent!!Total housing units  Percent Margin of Error!!Total housing units  \\\n",
      "0                           (X)                                           (X)   \n",
      "1                           (X)                                           (X)   \n",
      "2                           (X)                                           (X)   \n",
      "3                           (X)                                           (X)   \n",
      "4                           (X)                                           (X)   \n",
      "\n",
      "   Percent!!CITIZEN, VOTING AGE POPULATION!!Citizen, 18 and over population  \\\n",
      "0                                            41959.0                          \n",
      "1                                           167986.0                          \n",
      "2                                            19468.0                          \n",
      "3                                            17583.0                          \n",
      "4                                            42978.0                          \n",
      "\n",
      "   Percent Margin of Error!!CITIZEN, VOTING AGE POPULATION!!Citizen, 18 and over population  \\\n",
      "0                                                (X)                                          \n",
      "1                                                (X)                                          \n",
      "2                                                (X)                                          \n",
      "3                                                (X)                                          \n",
      "4                                                (X)                                          \n",
      "\n",
      "   Percent!!CITIZEN, VOTING AGE POPULATION!!Citizen, 18 and over population!!Male  \\\n",
      "0                                               47.6                                \n",
      "1                                               47.8                                \n",
      "2                                               53.2                                \n",
      "3                                               53.6                                \n",
      "4                                               48.9                                \n",
      "\n",
      "   Percent Margin of Error!!CITIZEN, VOTING AGE POPULATION!!Citizen, 18 and over population!!Male  \\\n",
      "0                                                0.4                                                \n",
      "1                                                0.2                                                \n",
      "2                                                0.2                                                \n",
      "3                                                0.4                                                \n",
      "4                                                0.3                                                \n",
      "\n",
      "   Percent!!CITIZEN, VOTING AGE POPULATION!!Citizen, 18 and over population!!Female  \\\n",
      "0                                               52.4                                  \n",
      "1                                               52.2                                  \n",
      "2                                               46.8                                  \n",
      "3                                               46.4                                  \n",
      "4                                               51.1                                  \n",
      "\n",
      "   Percent Margin of Error!!CITIZEN, VOTING AGE POPULATION!!Citizen, 18 and over population!!Female  \n",
      "0                                                0.4                                                 \n",
      "1                                                0.2                                                 \n",
      "2                                                0.2                                                 \n",
      "3                                                0.4                                                 \n",
      "4                                                0.3                                                 \n",
      "\n",
      "[5 rows x 1052 columns]\n"
     ]
    }
   ],
   "source": [
    "merge_Enrichment_data=pd.merge(superdata_2020,ACS_filtered,on=['countyFIPS'],how='outer')\n",
    "print(\"(Rows, Columns)= \",merge_Enrichment_data.shape)\n",
    "print(merge_Enrichment_data.head())\n",
    "merge_Enrichment_data.to_csv('MergeData.csv', index=False)"
   ]
  },
  {
   "cell_type": "markdown",
   "id": "925e040e",
   "metadata": {},
   "source": [
    "### 10. Enrichment Data's Role in COVID-19 Spread Analysis with Initial Hypothesis Questions "
   ]
  },
  {
   "cell_type": "markdown",
   "id": "7c8359ba",
   "metadata": {},
   "source": [
    "Demographic factors like population density, age distribution, and socioeconomic conditions can affect the transmission rate and mortality of COVID-19 in a region. For instance:\n",
    "- **Population Density and Housing**: The number of housing units, particularly in relation to the population size, can provide insights into population density and crowding, both of which are factors that increase the likelihood of COVID-19 spread.\n",
    "- **Age Distribution**: Areas with a higher elderly population might experience higher mortality rates since COVID-19 poses a greater risk to older adults.\n",
    "- **Sex Ratios and COVID-19**: The dataset provides information about the sex ratio, which can be used to analyze if certain trends in the virus's transmission. For example, men were initially found to have a higher risk of severe outcomes from COVID-19.\n",
    "\n",
    "`Initial Hypothesis Questions:`\n",
    "The enriched dataset allows us to pose several hypothesis questions for future analysis:\n",
    "1. Does higher population density correlate with a higher rate of COVID-19 cases?\n",
    "2. Are counties with a larger elderly population experiencing higher COVID-19 death rates?\n",
    "3. Does sex ratio influence the COVID-19 death rate?"
   ]
  }
 ],
 "metadata": {
  "celltoolbar": "Raw Cell Format",
  "kernelspec": {
   "display_name": "Python 3 (ipykernel)",
   "language": "python",
   "name": "python3"
  },
  "language_info": {
   "codemirror_mode": {
    "name": "ipython",
    "version": 3
   },
   "file_extension": ".py",
   "mimetype": "text/x-python",
   "name": "python",
   "nbconvert_exporter": "python",
   "pygments_lexer": "ipython3",
   "version": "3.9.13"
  }
 },
 "nbformat": 4,
 "nbformat_minor": 5
}
